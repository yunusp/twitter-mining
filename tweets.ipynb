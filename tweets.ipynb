{
 "metadata": {
  "language_info": {
   "codemirror_mode": {
    "name": "ipython",
    "version": 3
   },
   "file_extension": ".py",
   "mimetype": "text/x-python",
   "name": "python",
   "nbconvert_exporter": "python",
   "pygments_lexer": "ipython3",
   "version": "3.9.0"
  },
  "orig_nbformat": 2,
  "kernelspec": {
   "name": "python390jvsc74a57bd063fd5069d213b44bf678585dea6b12cceca9941eaf7f819626cde1f2670de90d",
   "display_name": "Python 3.9.0 64-bit"
  },
  "metadata": {
   "interpreter": {
    "hash": "63fd5069d213b44bf678585dea6b12cceca9941eaf7f819626cde1f2670de90d"
   }
  }
 },
 "nbformat": 4,
 "nbformat_minor": 2,
 "cells": [
  {
   "source": [
    "# Mine tweets\n",
    "\n",
    "## TODO:\n",
    "- [ ] get into csv\n",
    "- [ ] remove everything with a …\n",
    "- [ ] handle retweets (stuff starting with rt)\n",
    "- [ ] handle common words like prepositions\n",
    "- [ ] handle words with less than 5(?) occuroucnes\n",
    "- [ ] handle words not in english\n",
    "- [ ] handle urls with emoji (better regex)\n",
    "    \n",
    "\n"
   ],
   "cell_type": "markdown",
   "metadata": {}
  },
  {
   "cell_type": "code",
   "execution_count": null,
   "metadata": {},
   "outputs": [],
   "source": [
    "import io\n",
    "import re\n",
    "from collections import defaultdict\n",
    "import json\n",
    "import csv"
   ]
  },
  {
   "cell_type": "code",
   "execution_count": null,
   "metadata": {},
   "outputs": [],
   "source": [
    "gwords = defaultdict(int)\n",
    "FILE = \"data2.txt\""
   ]
  },
  {
   "source": [
    "## Find out number of tweets"
   ],
   "cell_type": "markdown",
   "metadata": {}
  },
  {
   "cell_type": "code",
   "execution_count": null,
   "metadata": {},
   "outputs": [],
   "source": [
    "with io.open(FILE,\"r\",encoding='utf8') as twts:\n",
    "    x = twts.read().lower().split(\"|,|\")\n",
    "    print(len(x))"
   ]
  },
  {
   "source": [
    "## Put tweets back after removing the delimiter"
   ],
   "cell_type": "markdown",
   "metadata": {}
  },
  {
   "cell_type": "code",
   "execution_count": null,
   "metadata": {
    "tags": []
   },
   "outputs": [],
   "source": [
    "with io.open(\"filtered.txt\",\"w\",encoding=\"utf8\") as fltr:\n",
    "    jned = \"\\n\".join(x)\n",
    "    fltr.write(jned)"
   ]
  },
  {
   "source": [
    "## Count words\n",
    "\n"
   ],
   "cell_type": "markdown",
   "metadata": {}
  },
  {
   "cell_type": "code",
   "execution_count": null,
   "metadata": {},
   "outputs": [],
   "source": [
    "def handler(words):\n",
    "    for wrd in words.split():\n",
    "        gwords[wrd] += 1\n"
   ]
  },
  {
   "cell_type": "code",
   "execution_count": null,
   "metadata": {},
   "outputs": [],
   "source": [
    "\n",
    "with io.open(\"filtered.txt\",\"r\",encoding='utf8') as f:\n",
    "    strs = f.read().lower()\n",
    "    s = re.sub(\"https://*.*\",\"__url__\",strs)\n",
    "    handler(s)\n",
    "with io.open(\"results.json\",\"w\",encoding='utf8') as o:\n",
    "    json.dump(gwords,o,ensure_ascii=False)"
   ]
  },
  {
   "source": [
    "## Print all items if value > 3"
   ],
   "cell_type": "markdown",
   "metadata": {}
  },
  {
   "cell_type": "code",
   "execution_count": null,
   "metadata": {
    "tags": [
     "outputPrepend"
    ]
   },
   "outputs": [],
   "source": [
    "fjson = io.open(\"results.json\",\"r\",encoding=\"utf8\")\n",
    "info = json.load(fjson)\n",
    "info=dict(sorted(info.items(),key= lambda x:x[1]))\n",
    "\n",
    "for k,v in info.items():\n",
    "    if v > 3:\n",
    "        print(k,v)\n",
    "fjson.close()"
   ]
  }
 ]
}